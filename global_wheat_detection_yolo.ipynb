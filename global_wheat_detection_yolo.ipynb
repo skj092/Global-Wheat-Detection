{
  "nbformat": 4,
  "nbformat_minor": 0,
  "metadata": {
    "colab": {
      "name": "global-wheat-detection-yolo.ipynb",
      "provenance": [],
      "authorship_tag": "ABX9TyOlPlLSnFUff+MDS8aGDGDq",
      "include_colab_link": true
    },
    "kernelspec": {
      "name": "python3",
      "display_name": "Python 3"
    },
    "language_info": {
      "name": "python"
    },
    "accelerator": "GPU"
  },
  "cells": [
    {
      "cell_type": "markdown",
      "metadata": {
        "id": "view-in-github",
        "colab_type": "text"
      },
      "source": [
        "<a href=\"https://colab.research.google.com/github/skj092/Global-Wheat-Detection-YOLO/blob/main/global_wheat_detection_yolo.ipynb\" target=\"_parent\"><img src=\"https://colab.research.google.com/assets/colab-badge.svg\" alt=\"Open In Colab\"/></a>"
      ]
    },
    {
      "cell_type": "code",
      "source": [
        "!git clone https://github.com/skj092/Global-Wheat-Detection-YOLO.git"
      ],
      "metadata": {
        "colab": {
          "base_uri": "https://localhost:8080/"
        },
        "id": "DEqA7tF1WuBc",
        "outputId": "d346faf2-0b25-48ba-9a99-c2b160555ef1"
      },
      "execution_count": 5,
      "outputs": [
        {
          "output_type": "stream",
          "name": "stdout",
          "text": [
            "fatal: destination path 'Global-Wheat-Detection-YOLO' already exists and is not an empty directory.\n"
          ]
        }
      ]
    },
    {
      "cell_type": "code",
      "source": [
        "cd Global-Wheat-Detection-YOLO"
      ],
      "metadata": {
        "colab": {
          "base_uri": "https://localhost:8080/"
        },
        "id": "lzY5Ow46WwqN",
        "outputId": "f03e9f66-b81e-428c-83ab-47ea8e19ef1e"
      },
      "execution_count": 6,
      "outputs": [
        {
          "output_type": "stream",
          "name": "stdout",
          "text": [
            "/content/Global-Wheat-Detection-YOLO\n"
          ]
        }
      ]
    },
    {
      "cell_type": "code",
      "source": [
        "!git clone https://github.com/ultralytics/yolov5.git"
      ],
      "metadata": {
        "colab": {
          "base_uri": "https://localhost:8080/"
        },
        "id": "Ecy1xgx9aXnu",
        "outputId": "1cbc1e72-3705-433c-8dc8-e257e63ffe04"
      },
      "execution_count": 7,
      "outputs": [
        {
          "output_type": "stream",
          "name": "stdout",
          "text": [
            "Cloning into 'yolov5'...\n",
            "remote: Enumerating objects: 12234, done.\u001b[K\n",
            "remote: Counting objects:  20% (1/5)\u001b[K\rremote: Counting objects:  40% (2/5)\u001b[K\rremote: Counting objects:  60% (3/5)\u001b[K\rremote: Counting objects:  80% (4/5)\u001b[K\rremote: Counting objects: 100% (5/5)\u001b[K\rremote: Counting objects: 100% (5/5), done.\u001b[K\n",
            "remote: Compressing objects: 100% (5/5), done.\u001b[K\n",
            "remote: Total 12234 (delta 0), reused 1 (delta 0), pack-reused 12229\u001b[K\n",
            "Receiving objects: 100% (12234/12234), 11.95 MiB | 32.30 MiB/s, done.\n",
            "Resolving deltas: 100% (8470/8470), done.\n"
          ]
        }
      ]
    },
    {
      "cell_type": "code",
      "source": [
        "ls"
      ],
      "metadata": {
        "colab": {
          "base_uri": "https://localhost:8080/"
        },
        "id": "FCDhAsR2aaPL",
        "outputId": "d6151349-59a5-4869-f176-b18bfe5e5caf"
      },
      "execution_count": 8,
      "outputs": [
        {
          "output_type": "stream",
          "name": "stdout",
          "text": [
            "\u001b[0m\u001b[01;34mdata\u001b[0m/  LICENSE  munge_data.py  README.md  requirements.txt  \u001b[01;34myolov5\u001b[0m/\n"
          ]
        }
      ]
    },
    {
      "cell_type": "code",
      "source": [
        ""
      ],
      "metadata": {
        "id": "FJzc1tdrakXe"
      },
      "execution_count": 12,
      "outputs": []
    },
    {
      "cell_type": "code",
      "source": [
        "cd yolov5"
      ],
      "metadata": {
        "colab": {
          "base_uri": "https://localhost:8080/"
        },
        "id": "jOinjDzpax11",
        "outputId": "f795990d-5c4a-4396-9a2d-d21941d3db7e"
      },
      "execution_count": 18,
      "outputs": [
        {
          "output_type": "stream",
          "name": "stdout",
          "text": [
            "/content/Global-Wheat-Detection-YOLO/yolov5\n"
          ]
        }
      ]
    },
    {
      "cell_type": "code",
      "source": [
        "!touch wheat.yaml"
      ],
      "metadata": {
        "id": "Tr9yBLv0a_cM"
      },
      "execution_count": 19,
      "outputs": []
    },
    {
      "cell_type": "code",
      "source": [
        "# train: ../data/preprocessed/images/train\n",
        "# val: ../data/preprocessed/images/validation\n",
        "# nc: 1\n",
        "# names: [\"wheat\"]"
      ],
      "metadata": {
        "id": "GWRVSzrSbNHg"
      },
      "execution_count": 20,
      "outputs": []
    },
    {
      "cell_type": "code",
      "source": [
        "%%bash\n",
        "\n",
        "mkdir data\n",
        "mkdir data/input\n",
        "mkdir data/preprocessed\n",
        "mkdir data/preprocessed/images\n",
        "mkdir data/preprocessed/labels\n",
        "mkdir data/preprocessed/images/train\n",
        "mkdir data/preprocessed/images/validation\n",
        "mkdir data/preprocessed/labels/train\n",
        "mkdir data/preprocessed/labels/validation"
      ],
      "metadata": {
        "colab": {
          "base_uri": "https://localhost:8080/"
        },
        "id": "LTa5qSw5XZwr",
        "outputId": "0f9f9efb-aea1-45bf-e586-3042065a0dd5"
      },
      "execution_count": null,
      "outputs": [
        {
          "output_type": "stream",
          "name": "stderr",
          "text": [
            "mkdir: cannot create directory ‘data’: File exists\n",
            "mkdir: cannot create directory ‘data/input’: File exists\n",
            "mkdir: cannot create directory ‘data/preprocessed’: File exists\n",
            "mkdir: cannot create directory ‘data/preprocessed/images’: File exists\n",
            "mkdir: cannot create directory ‘data/preprocessed/labels’: File exists\n",
            "mkdir: cannot create directory ‘data/preprocessed/images/train’: File exists\n",
            "mkdir: cannot create directory ‘data/preprocessed/labels/validation’: File exists\n"
          ]
        }
      ]
    },
    {
      "cell_type": "code",
      "source": [
        "!cp ../kaggle.json ../../root/.kaggle"
      ],
      "metadata": {
        "id": "x8aA-HkQYOtV"
      },
      "execution_count": null,
      "outputs": []
    },
    {
      "cell_type": "code",
      "source": [
        "cd data/input"
      ],
      "metadata": {
        "colab": {
          "base_uri": "https://localhost:8080/"
        },
        "id": "l4ZJlVy2YmHy",
        "outputId": "b7fb6e17-c6ae-43fb-eef9-e9d8c1ef57a5"
      },
      "execution_count": null,
      "outputs": [
        {
          "output_type": "stream",
          "name": "stdout",
          "text": [
            "/content/Global-Wheat-Detection-YOLO/data/input\n"
          ]
        }
      ]
    },
    {
      "cell_type": "code",
      "source": [
        "!kaggle competitions download -c global-wheat-detection"
      ],
      "metadata": {
        "colab": {
          "base_uri": "https://localhost:8080/"
        },
        "id": "4Z7hFyiMYoDQ",
        "outputId": "f45bc2fb-c00e-4691-f9f3-e8ffd9d4dd8f"
      },
      "execution_count": null,
      "outputs": [
        {
          "output_type": "stream",
          "name": "stdout",
          "text": [
            "Warning: Your Kaggle API key is readable by other users on this system! To fix this, you can run 'chmod 600 /root/.kaggle/kaggle.json'\n",
            "Downloading global-wheat-detection.zip to /content/Global-Wheat-Detection-YOLO/data/input\n",
            " 98% 593M/607M [00:05<00:00, 133MB/s] \n",
            "100% 607M/607M [00:05<00:00, 120MB/s]\n"
          ]
        }
      ]
    },
    {
      "cell_type": "code",
      "source": [
        "!unzip global-wheat-detection.zip"
      ],
      "metadata": {
        "id": "4NiOosUgY0D3"
      },
      "execution_count": null,
      "outputs": []
    },
    {
      "cell_type": "code",
      "source": [
        "!python munge_data.py"
      ],
      "metadata": {
        "colab": {
          "base_uri": "https://localhost:8080/"
        },
        "id": "a5auIng1Y3oH",
        "outputId": "f49a9e9a-2e03-4291-8221-f272fef9e40e"
      },
      "execution_count": null,
      "outputs": [
        {
          "output_type": "stream",
          "name": "stdout",
          "text": [
            "100% 3035/3035 [00:02<00:00, 1068.81it/s]\n",
            "100% 338/338 [00:00<00:00, 1146.71it/s]\n"
          ]
        }
      ]
    },
    {
      "cell_type": "code",
      "source": [
        "cd yolov5"
      ],
      "metadata": {
        "colab": {
          "base_uri": "https://localhost:8080/"
        },
        "id": "GqYLbnZvZCVT",
        "outputId": "b713d5ff-c88c-460e-d857-5830951ffd4b"
      },
      "execution_count": null,
      "outputs": [
        {
          "output_type": "stream",
          "name": "stdout",
          "text": [
            "/content/Global-Wheat-Detection-YOLO/yolov5\n"
          ]
        }
      ]
    },
    {
      "cell_type": "code",
      "source": [
        "!python train.py --img 1024 --batch 4  --epochs 2 --data wheat.yaml "
      ],
      "metadata": {
        "colab": {
          "base_uri": "https://localhost:8080/"
        },
        "id": "rJY3IlaeZJUe",
        "outputId": "184424f4-467d-4493-f8be-6dc570a9f97a"
      },
      "execution_count": 5,
      "outputs": [
        {
          "output_type": "stream",
          "name": "stdout",
          "text": [
            "\u001b[34m\u001b[1mtrain: \u001b[0mweights=yolov5s.pt, cfg=, data=wheat.yaml, hyp=data/hyps/hyp.scratch-low.yaml, epochs=2, batch_size=4, imgsz=1024, rect=False, resume=False, nosave=False, noval=False, noautoanchor=False, noplots=False, evolve=None, bucket=, cache=None, image_weights=False, device=, multi_scale=False, single_cls=False, optimizer=SGD, sync_bn=False, workers=8, project=runs/train, name=exp, exist_ok=False, quad=False, cos_lr=False, label_smoothing=0.0, patience=100, freeze=[0], save_period=-1, local_rank=-1, entity=None, upload_dataset=False, bbox_interval=-1, artifact_alias=latest\n",
            "\u001b[34m\u001b[1mgithub: \u001b[0mup to date with https://github.com/ultralytics/yolov5 ✅\n",
            "YOLOv5 🚀 v6.1-251-gc23a441 Python-3.7.13 torch-1.11.0+cu113 CUDA:0 (Tesla T4, 15110MiB)\n",
            "\n",
            "\u001b[34m\u001b[1mhyperparameters: \u001b[0mlr0=0.01, lrf=0.01, momentum=0.937, weight_decay=0.0005, warmup_epochs=3.0, warmup_momentum=0.8, warmup_bias_lr=0.1, box=0.05, cls=0.5, cls_pw=1.0, obj=1.0, obj_pw=1.0, iou_t=0.2, anchor_t=4.0, fl_gamma=0.0, hsv_h=0.015, hsv_s=0.7, hsv_v=0.4, degrees=0.0, translate=0.1, scale=0.5, shear=0.0, perspective=0.0, flipud=0.0, fliplr=0.5, mosaic=1.0, mixup=0.0, copy_paste=0.0\n",
            "\u001b[34m\u001b[1mWeights & Biases: \u001b[0mrun 'pip install wandb' to automatically track and visualize YOLOv5 🚀 runs (RECOMMENDED)\n",
            "\u001b[34m\u001b[1mTensorBoard: \u001b[0mStart with 'tensorboard --logdir runs/train', view at http://localhost:6006/\n",
            "Downloading https://ultralytics.com/assets/Arial.ttf to /root/.config/Ultralytics/Arial.ttf...\n",
            "100% 755k/755k [00:00<00:00, 112MB/s]\n",
            "Downloading https://github.com/ultralytics/yolov5/releases/download/v6.1/yolov5s.pt to yolov5s.pt...\n",
            "100% 14.1M/14.1M [00:00<00:00, 277MB/s]\n",
            "\n",
            "Overriding model.yaml nc=80 with nc=1\n",
            "\n",
            "                 from  n    params  module                                  arguments                     \n",
            "  0                -1  1      3520  models.common.Conv                      [3, 32, 6, 2, 2]              \n",
            "  1                -1  1     18560  models.common.Conv                      [32, 64, 3, 2]                \n",
            "  2                -1  1     18816  models.common.C3                        [64, 64, 1]                   \n",
            "  3                -1  1     73984  models.common.Conv                      [64, 128, 3, 2]               \n",
            "  4                -1  2    115712  models.common.C3                        [128, 128, 2]                 \n",
            "  5                -1  1    295424  models.common.Conv                      [128, 256, 3, 2]              \n",
            "  6                -1  3    625152  models.common.C3                        [256, 256, 3]                 \n",
            "  7                -1  1   1180672  models.common.Conv                      [256, 512, 3, 2]              \n",
            "  8                -1  1   1182720  models.common.C3                        [512, 512, 1]                 \n",
            "  9                -1  1    656896  models.common.SPPF                      [512, 512, 5]                 \n",
            " 10                -1  1    131584  models.common.Conv                      [512, 256, 1, 1]              \n",
            " 11                -1  1         0  torch.nn.modules.upsampling.Upsample    [None, 2, 'nearest']          \n",
            " 12           [-1, 6]  1         0  models.common.Concat                    [1]                           \n",
            " 13                -1  1    361984  models.common.C3                        [512, 256, 1, False]          \n",
            " 14                -1  1     33024  models.common.Conv                      [256, 128, 1, 1]              \n",
            " 15                -1  1         0  torch.nn.modules.upsampling.Upsample    [None, 2, 'nearest']          \n",
            " 16           [-1, 4]  1         0  models.common.Concat                    [1]                           \n",
            " 17                -1  1     90880  models.common.C3                        [256, 128, 1, False]          \n",
            " 18                -1  1    147712  models.common.Conv                      [128, 128, 3, 2]              \n",
            " 19          [-1, 14]  1         0  models.common.Concat                    [1]                           \n",
            " 20                -1  1    296448  models.common.C3                        [256, 256, 1, False]          \n",
            " 21                -1  1    590336  models.common.Conv                      [256, 256, 3, 2]              \n",
            " 22          [-1, 10]  1         0  models.common.Concat                    [1]                           \n",
            " 23                -1  1   1182720  models.common.C3                        [512, 512, 1, False]          \n",
            " 24      [17, 20, 23]  1     16182  models.yolo.Detect                      [1, [[10, 13, 16, 30, 33, 23], [30, 61, 62, 45, 59, 119], [116, 90, 156, 198, 373, 326]], [128, 256, 512]]\n",
            "Model summary: 270 layers, 7022326 parameters, 7022326 gradients\n",
            "\n",
            "Transferred 343/349 items from yolov5s.pt\n",
            "\u001b[34m\u001b[1mAMP: \u001b[0mchecks passed ✅\n",
            "Scaled weight_decay = 0.0005\n",
            "\u001b[34m\u001b[1moptimizer:\u001b[0m SGD with parameter groups 57 weight (no decay), 60 weight, 60 bias\n",
            "\u001b[34m\u001b[1malbumentations: \u001b[0mversion 1.0.3 required by YOLOv5, but version 0.1.12 is currently installed\n",
            "\u001b[34m\u001b[1mtrain: \u001b[0mScanning '/content/Global-Wheat-Detection-YOLO/yolov5/../data/preprocessed/labels/train' images and labels...3035 found, 0 missing, 0 empty, 0 corrupt: 100% 3035/3035 [00:01<00:00, 1787.42it/s]\n",
            "\u001b[34m\u001b[1mtrain: \u001b[0mNew cache created: /content/Global-Wheat-Detection-YOLO/yolov5/../data/preprocessed/labels/train.cache\n",
            "\u001b[34m\u001b[1mval: \u001b[0mScanning '/content/Global-Wheat-Detection-YOLO/yolov5/../data/preprocessed/labels/validation' images and labels...338 found, 0 missing, 0 empty, 0 corrupt: 100% 338/338 [00:00<00:00, 1129.69it/s]\n",
            "\u001b[34m\u001b[1mval: \u001b[0mNew cache created: /content/Global-Wheat-Detection-YOLO/yolov5/../data/preprocessed/labels/validation.cache\n",
            "Plotting labels to runs/train/exp2/labels.jpg... \n",
            "\n",
            "\u001b[34m\u001b[1mAutoAnchor: \u001b[0m5.72 anchors/target, 0.999 Best Possible Recall (BPR). Current anchors are a good fit to dataset ✅\n",
            "Image sizes 1024 train, 1024 val\n",
            "Using 2 dataloader workers\n",
            "Logging results to \u001b[1mruns/train/exp2\u001b[0m\n",
            "Starting training for 2 epochs...\n",
            "\n",
            "     Epoch   gpu_mem       box       obj       cls    labels  img_size\n",
            "       0/1     2.33G   0.07629    0.3377         0       173      1024: 100% 759/759 [04:07<00:00,  3.07it/s]\n",
            "               Class     Images     Labels          P          R     mAP@.5 mAP@.5:.95: 100% 43/43 [00:09<00:00,  4.54it/s]\n",
            "                 all        338      15129      0.642      0.657      0.731      0.339\n",
            "\n",
            "     Epoch   gpu_mem       box       obj       cls    labels  img_size\n",
            "       1/1     2.88G   0.05302     0.331         0       105      1024: 100% 759/759 [04:00<00:00,  3.15it/s]\n",
            "               Class     Images     Labels          P          R     mAP@.5 mAP@.5:.95: 100% 43/43 [00:09<00:00,  4.73it/s]\n",
            "                 all        338      15129      0.859      0.818      0.882      0.409\n",
            "\n",
            "2 epochs completed in 0.141 hours.\n",
            "Optimizer stripped from runs/train/exp2/weights/last.pt, 14.8MB\n",
            "Optimizer stripped from runs/train/exp2/weights/best.pt, 14.8MB\n",
            "\n",
            "Validating runs/train/exp2/weights/best.pt...\n",
            "Fusing layers... \n",
            "Model summary: 213 layers, 7012822 parameters, 0 gradients\n",
            "               Class     Images     Labels          P          R     mAP@.5 mAP@.5:.95: 100% 43/43 [00:17<00:00,  2.52it/s]\n",
            "                 all        338      15129      0.859      0.818      0.882      0.409\n",
            "Results saved to \u001b[1mruns/train/exp2\u001b[0m\n"
          ]
        }
      ]
    },
    {
      "cell_type": "code",
      "source": [
        "cd Global-Wheat-Detection-YOLO/"
      ],
      "metadata": {
        "id": "dqzqt80lZRBW",
        "colab": {
          "base_uri": "https://localhost:8080/"
        },
        "outputId": "1e8f9b3a-14fe-40eb-9a41-61dc7e1b2d96"
      },
      "execution_count": 3,
      "outputs": [
        {
          "output_type": "stream",
          "name": "stdout",
          "text": [
            "/content/Global-Wheat-Detection-YOLO\n"
          ]
        }
      ]
    },
    {
      "cell_type": "code",
      "source": [
        "cd yolov5"
      ],
      "metadata": {
        "colab": {
          "base_uri": "https://localhost:8080/"
        },
        "id": "SZyibPKJbgVw",
        "outputId": "b5fcf774-0729-4af4-e1ea-5256d586dd55"
      },
      "execution_count": 4,
      "outputs": [
        {
          "output_type": "stream",
          "name": "stdout",
          "text": [
            "/content/Global-Wheat-Detection-YOLO/yolov5\n"
          ]
        }
      ]
    },
    {
      "cell_type": "markdown",
      "source": [
        "# Prediction"
      ],
      "metadata": {
        "id": "dAP_Jy2Bc547"
      }
    },
    {
      "cell_type": "code",
      "source": [
        "!cp /content/Global-Wheat-Detection-YOLO/yolov5/runs/train/exp2/weights/best.pt ."
      ],
      "metadata": {
        "id": "TsvlX48geI2L"
      },
      "execution_count": 7,
      "outputs": []
    },
    {
      "cell_type": "code",
      "source": [
        "!python detect.py --source /content/Global-Wheat-Detection-YOLO/data/input/test --weights best.pt"
      ],
      "metadata": {
        "colab": {
          "base_uri": "https://localhost:8080/"
        },
        "id": "cN0Df0Ykc8N8",
        "outputId": "13c28e60-8001-46e5-da4a-f9685a1bbf9d"
      },
      "execution_count": 8,
      "outputs": [
        {
          "output_type": "stream",
          "name": "stdout",
          "text": [
            "\u001b[34m\u001b[1mdetect: \u001b[0mweights=['best.pt'], source=/content/Global-Wheat-Detection-YOLO/data/input/test, data=data/coco128.yaml, imgsz=[640, 640], conf_thres=0.25, iou_thres=0.45, max_det=1000, device=, view_img=False, save_txt=False, save_conf=False, save_crop=False, nosave=False, classes=None, agnostic_nms=False, augment=False, visualize=False, update=False, project=runs/detect, name=exp, exist_ok=False, line_thickness=3, hide_labels=False, hide_conf=False, half=False, dnn=False\n",
            "YOLOv5 🚀 v6.1-251-gc23a441 Python-3.7.13 torch-1.11.0+cu113 CUDA:0 (Tesla T4, 15110MiB)\n",
            "\n",
            "Fusing layers... \n",
            "Model summary: 213 layers, 7012822 parameters, 0 gradients\n",
            "image 1/10 /content/Global-Wheat-Detection-YOLO/data/input/test/2fd875eaa.jpg: 640x640 29 wheats, Done. (0.013s)\n",
            "image 2/10 /content/Global-Wheat-Detection-YOLO/data/input/test/348a992bb.jpg: 640x640 37 wheats, Done. (0.016s)\n",
            "image 3/10 /content/Global-Wheat-Detection-YOLO/data/input/test/51b3e36ab.jpg: 640x640 28 wheats, Done. (0.013s)\n",
            "image 4/10 /content/Global-Wheat-Detection-YOLO/data/input/test/51f1be19e.jpg: 640x640 19 wheats, Done. (0.013s)\n",
            "image 5/10 /content/Global-Wheat-Detection-YOLO/data/input/test/53f253011.jpg: 640x640 28 wheats, Done. (0.013s)\n",
            "image 6/10 /content/Global-Wheat-Detection-YOLO/data/input/test/796707dd7.jpg: 640x640 23 wheats, Done. (0.013s)\n",
            "image 7/10 /content/Global-Wheat-Detection-YOLO/data/input/test/aac893a91.jpg: 640x640 21 wheats, Done. (0.014s)\n",
            "image 8/10 /content/Global-Wheat-Detection-YOLO/data/input/test/cb8d261a3.jpg: 640x640 25 wheats, Done. (0.013s)\n",
            "image 9/10 /content/Global-Wheat-Detection-YOLO/data/input/test/cc3532ff6.jpg: 640x640 24 wheats, Done. (0.013s)\n",
            "image 10/10 /content/Global-Wheat-Detection-YOLO/data/input/test/f5a1f0358.jpg: 640x640 26 wheats, Done. (0.013s)\n",
            "Speed: 0.6ms pre-process, 13.4ms inference, 1.1ms NMS per image at shape (1, 3, 640, 640)\n",
            "Results saved to \u001b[1mruns/detect/exp2\u001b[0m\n"
          ]
        }
      ]
    },
    {
      "cell_type": "code",
      "source": [
        ""
      ],
      "metadata": {
        "id": "rqPdtC8LeDf8"
      },
      "execution_count": null,
      "outputs": []
    }
  ]
}