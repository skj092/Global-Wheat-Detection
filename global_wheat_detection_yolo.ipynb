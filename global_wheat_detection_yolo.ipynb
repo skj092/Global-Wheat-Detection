{
  "nbformat": 4,
  "nbformat_minor": 0,
  "metadata": {
    "colab": {
      "name": "global-wheat-detection-yolo.ipynb",
      "provenance": [],
      "authorship_tag": "ABX9TyNCqU4zjgMdJNd9CzAP6qvV",
      "include_colab_link": true
    },
    "kernelspec": {
      "name": "python3",
      "display_name": "Python 3"
    },
    "language_info": {
      "name": "python"
    },
    "accelerator": "GPU"
  },
  "cells": [
    {
      "cell_type": "markdown",
      "metadata": {
        "id": "view-in-github",
        "colab_type": "text"
      },
      "source": [
        "<a href=\"https://colab.research.google.com/github/skj092/Global-Wheat-Detection-YOLO/blob/main/global_wheat_detection_yolo.ipynb\" target=\"_parent\"><img src=\"https://colab.research.google.com/assets/colab-badge.svg\" alt=\"Open In Colab\"/></a>"
      ]
    },
    {
      "cell_type": "code",
      "source": [
        "!git clone https://github.com/skj092/Global-Wheat-Detection-YOLO.git"
      ],
      "metadata": {
        "colab": {
          "base_uri": "https://localhost:8080/"
        },
        "id": "DEqA7tF1WuBc",
        "outputId": "38f91a16-ca52-434f-afa4-3d2a62e46be2"
      },
      "execution_count": 1,
      "outputs": [
        {
          "output_type": "stream",
          "name": "stdout",
          "text": [
            "Cloning into 'Global-Wheat-Detection-YOLO'...\n",
            "remote: Enumerating objects: 11, done.\u001b[K\n",
            "remote: Counting objects: 100% (11/11), done.\u001b[K\n",
            "remote: Compressing objects: 100% (9/9), done.\u001b[K\n",
            "remote: Total 11 (delta 1), reused 7 (delta 1), pack-reused 0\u001b[K\n",
            "Unpacking objects: 100% (11/11), done.\n"
          ]
        }
      ]
    },
    {
      "cell_type": "code",
      "source": [
        "ls"
      ],
      "metadata": {
        "colab": {
          "base_uri": "https://localhost:8080/"
        },
        "id": "CHbt1m-sXast",
        "outputId": "7bc68d59-cf1b-40b9-88a2-6349f1730a83"
      },
      "execution_count": 3,
      "outputs": [
        {
          "output_type": "stream",
          "name": "stdout",
          "text": [
            "\u001b[0m\u001b[01;34mGlobal-Wheat-Detection-YOLO\u001b[0m/  \u001b[01;34msample_data\u001b[0m/\n"
          ]
        }
      ]
    },
    {
      "cell_type": "code",
      "source": [
        "cd Global-Wheat-Detection-YOLO"
      ],
      "metadata": {
        "colab": {
          "base_uri": "https://localhost:8080/"
        },
        "id": "lzY5Ow46WwqN",
        "outputId": "c5671b2b-86d8-495c-a58a-6d9612ec34e4"
      },
      "execution_count": 4,
      "outputs": [
        {
          "output_type": "stream",
          "name": "stdout",
          "text": [
            "/content/Global-Wheat-Detection-YOLO\n"
          ]
        }
      ]
    },
    {
      "cell_type": "code",
      "source": [
        "%%bash\n",
        "\n",
        "mkdir data\n",
        "mkdir data/input\n",
        "mkdir data/preprocessed\n",
        "mkdir data/preprocessed/images\n",
        "mkdir data/preprocessed/labels\n",
        "mkdir data/preprocessed/images/train\n",
        "mkdir data/preprocessed/images/validation\n",
        "mkdir data/preprocessed/labels/train\n",
        "mkdir data/preprocessed/labels/validation"
      ],
      "metadata": {
        "colab": {
          "base_uri": "https://localhost:8080/"
        },
        "id": "LTa5qSw5XZwr",
        "outputId": "0f9f9efb-aea1-45bf-e586-3042065a0dd5"
      },
      "execution_count": 6,
      "outputs": [
        {
          "output_type": "stream",
          "name": "stderr",
          "text": [
            "mkdir: cannot create directory ‘data’: File exists\n",
            "mkdir: cannot create directory ‘data/input’: File exists\n",
            "mkdir: cannot create directory ‘data/preprocessed’: File exists\n",
            "mkdir: cannot create directory ‘data/preprocessed/images’: File exists\n",
            "mkdir: cannot create directory ‘data/preprocessed/labels’: File exists\n",
            "mkdir: cannot create directory ‘data/preprocessed/images/train’: File exists\n",
            "mkdir: cannot create directory ‘data/preprocessed/labels/validation’: File exists\n"
          ]
        }
      ]
    },
    {
      "cell_type": "code",
      "source": [
        "!cp ../kaggle.json ../../root/.kaggle"
      ],
      "metadata": {
        "id": "x8aA-HkQYOtV"
      },
      "execution_count": 11,
      "outputs": []
    },
    {
      "cell_type": "code",
      "source": [
        "cd data/input"
      ],
      "metadata": {
        "colab": {
          "base_uri": "https://localhost:8080/"
        },
        "id": "l4ZJlVy2YmHy",
        "outputId": "b7fb6e17-c6ae-43fb-eef9-e9d8c1ef57a5"
      },
      "execution_count": 13,
      "outputs": [
        {
          "output_type": "stream",
          "name": "stdout",
          "text": [
            "/content/Global-Wheat-Detection-YOLO/data/input\n"
          ]
        }
      ]
    },
    {
      "cell_type": "code",
      "source": [
        "!kaggle competitions download -c global-wheat-detection"
      ],
      "metadata": {
        "colab": {
          "base_uri": "https://localhost:8080/"
        },
        "id": "4Z7hFyiMYoDQ",
        "outputId": "f45bc2fb-c00e-4691-f9f3-e8ffd9d4dd8f"
      },
      "execution_count": 14,
      "outputs": [
        {
          "output_type": "stream",
          "name": "stdout",
          "text": [
            "Warning: Your Kaggle API key is readable by other users on this system! To fix this, you can run 'chmod 600 /root/.kaggle/kaggle.json'\n",
            "Downloading global-wheat-detection.zip to /content/Global-Wheat-Detection-YOLO/data/input\n",
            " 98% 593M/607M [00:05<00:00, 133MB/s] \n",
            "100% 607M/607M [00:05<00:00, 120MB/s]\n"
          ]
        }
      ]
    },
    {
      "cell_type": "code",
      "source": [
        "!unzip global-wheat-detection.zip"
      ],
      "metadata": {
        "id": "4NiOosUgY0D3"
      },
      "execution_count": null,
      "outputs": []
    },
    {
      "cell_type": "code",
      "source": [
        "!python munge_data.py"
      ],
      "metadata": {
        "colab": {
          "base_uri": "https://localhost:8080/"
        },
        "id": "a5auIng1Y3oH",
        "outputId": "f49a9e9a-2e03-4291-8221-f272fef9e40e"
      },
      "execution_count": 19,
      "outputs": [
        {
          "output_type": "stream",
          "name": "stdout",
          "text": [
            "100% 3035/3035 [00:02<00:00, 1068.81it/s]\n",
            "100% 338/338 [00:00<00:00, 1146.71it/s]\n"
          ]
        }
      ]
    },
    {
      "cell_type": "code",
      "source": [
        "cd yolov5"
      ],
      "metadata": {
        "colab": {
          "base_uri": "https://localhost:8080/"
        },
        "id": "GqYLbnZvZCVT",
        "outputId": "b713d5ff-c88c-460e-d857-5830951ffd4b"
      },
      "execution_count": 21,
      "outputs": [
        {
          "output_type": "stream",
          "name": "stdout",
          "text": [
            "/content/Global-Wheat-Detection-YOLO/yolov5\n"
          ]
        }
      ]
    },
    {
      "cell_type": "code",
      "source": [
        "!python train.py --img 1024 --batch 4  --epochs 2 --data wheat.yaml "
      ],
      "metadata": {
        "colab": {
          "base_uri": "https://localhost:8080/"
        },
        "id": "rJY3IlaeZJUe",
        "outputId": "b67881ce-91f2-4cc9-ad18-38c277b11d22"
      },
      "execution_count": 22,
      "outputs": [
        {
          "output_type": "stream",
          "name": "stdout",
          "text": [
            "python3: can't open file 'train.py': [Errno 2] No such file or directory\n"
          ]
        }
      ]
    },
    {
      "cell_type": "code",
      "source": [
        ""
      ],
      "metadata": {
        "id": "dqzqt80lZRBW"
      },
      "execution_count": null,
      "outputs": []
    }
  ]
}